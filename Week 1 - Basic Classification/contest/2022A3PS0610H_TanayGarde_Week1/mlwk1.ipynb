{
 "cells": [
  {
   "cell_type": "code",
   "execution_count": null,
   "metadata": {},
   "outputs": [],
   "source": [
    "import pandas as pd\n",
    "import numpy as np\n",
    "from sklearn import preprocessing\n",
    "from sklearn.pipeline import Pipeline\n",
    "from sklearn.preprocessing import StandardScaler\n",
    "from sklearn.linear_model import LogisticRegression\n",
    "from sklearn.model_selection import train_test_split\n",
    "from sklearn import metrics\n",
    "from sklearn.feature_extraction import FeatureHasher"
   ]
  },
  {
   "cell_type": "code",
   "execution_count": null,
   "metadata": {},
   "outputs": [],
   "source": [
    "df = pd.read_csv(\"C:\\\\Users\\\\tanay\\\\OneDrive\\\\Desktop\\\\choding vsc\\\\crux ml workshop\\\\train.csv\")\n",
    "tf = pd.read_csv(\"C:\\\\Users\\\\tanay\\\\OneDrive\\\\Desktop\\\\choding vsc\\\\crux ml workshop\\\\test.csv\")\n",
    "df.head()"
   ]
  },
  {
   "cell_type": "code",
   "execution_count": null,
   "metadata": {},
   "outputs": [],
   "source": [
    "unique = np.unique(tf[['sex']])\n",
    "print(\"Total number:\", len(unique))\n",
    "print(unique)"
   ]
  },
  {
   "cell_type": "code",
   "execution_count": null,
   "metadata": {},
   "outputs": [],
   "source": [
    "df.drop(df.columns[[2, 3, 4, 6, 7, 8, 9, 14]], axis=1, inplace=True)\n",
    "df = df.replace(' ?',np.nan)\n",
    "tf.drop(tf.columns[[2, 3, 4, 6, 7, 8, 9, 14]], axis=1, inplace=True)\n",
    "tf = tf.replace(' ?',np.nan)\n",
    "tf.head()"
   ]
  },
  {
   "cell_type": "code",
   "execution_count": null,
   "metadata": {},
   "outputs": [],
   "source": [
    "x = df.iloc[:,1:7]\n",
    "x = x.replace(' Male',1)\n",
    "x = x.replace(' Female',0)\n",
    "y = df.iloc[:,7]\n",
    "min_max_scaler = preprocessing.MinMaxScaler()\n",
    "x_scaled = min_max_scaler.fit_transform(x)\n",
    "np.array(x_scaled)\n",
    "xt = tf.iloc[:,1:7]\n",
    "xt = xt.replace(' Male',1)\n",
    "xt = xt.replace(' Female',0)\n",
    "xt_scaled = min_max_scaler.fit_transform(xt)\n",
    "np.array(xt_scaled)"
   ]
  },
  {
   "cell_type": "code",
   "execution_count": null,
   "metadata": {},
   "outputs": [],
   "source": [
    "X_train, X_test, y_train, y_test = train_test_split(x_scaled, y, test_size=0.25, random_state=None)"
   ]
  },
  {
   "cell_type": "code",
   "execution_count": null,
   "metadata": {},
   "outputs": [],
   "source": [
    "tf.head()"
   ]
  },
  {
   "cell_type": "code",
   "execution_count": null,
   "metadata": {},
   "outputs": [],
   "source": [
    "logreg = LogisticRegression(random_state=16)\n",
    "logreg.fit(X_train, y_train)\n",
    "y_pred = logreg.predict(xt_scaled)\n",
    "print(y_pred)\n",
    "\n",
    "submission = pd.read_csv(\"C:\\\\Users\\\\tanay\\\\OneDrive\\\\Desktop\\\\choding vsc\\\\crux ml workshop\\\\test.csv\",header=0)\n",
    "\n",
    "my_submission = pd.DataFrame({'Id': submission.id, 'income': y_pred})\n",
    "\n",
    "my_submission.to_csv('submission.csv', index=False)\n",
    "\n"
   ]
  },
  {
   "cell_type": "code",
   "execution_count": null,
   "metadata": {},
   "outputs": [],
   "source": [
    "cnf_matrix = metrics.confusion_matrix(y_test, y_pred)\n",
    "cnf_matrix"
   ]
  }
 ],
 "metadata": {
  "kernelspec": {
   "display_name": "Python 3",
   "language": "python",
   "name": "python3"
  },
  "language_info": {
   "codemirror_mode": {
    "name": "ipython",
    "version": 3
   },
   "file_extension": ".py",
   "mimetype": "text/x-python",
   "name": "python",
   "nbconvert_exporter": "python",
   "pygments_lexer": "ipython3",
   "version": "3.11.2"
  },
  "orig_nbformat": 4
 },
 "nbformat": 4,
 "nbformat_minor": 2
}
